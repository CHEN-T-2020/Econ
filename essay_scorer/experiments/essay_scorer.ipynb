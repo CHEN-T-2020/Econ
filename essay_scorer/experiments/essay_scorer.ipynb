{
 "cells": [
  {
   "cell_type": "code",
   "execution_count": 2,
   "metadata": {},
   "outputs": [
    {
     "name": "stderr",
     "output_type": "stream",
     "text": [
      "/opt/miniconda3/envs/health/lib/python3.12/site-packages/pydantic/_internal/_config.py:345: UserWarning: Valid config keys have changed in V2:\n",
      "* 'fields' has been removed\n",
      "  warnings.warn(message, UserWarning)\n",
      "/opt/miniconda3/envs/health/lib/python3.12/site-packages/tqdm/auto.py:21: TqdmWarning: IProgress not found. Please update jupyter and ipywidgets. See https://ipywidgets.readthedocs.io/en/stable/user_install.html\n",
      "  from .autonotebook import tqdm as notebook_tqdm\n"
     ]
    }
   ],
   "source": [
    "import dspy\n",
    "import os\n",
    "from dotenv import load_dotenv\n",
    "load_dotenv()\n",
    "\n",
    "OPENAI_API_KEY = os.getenv('OPENAI_API_KEY')\n",
    "GOOGLE_API_KEY = os.getenv('GOOGLE_API_KEY')\n",
    "TEMPERATURE = 0.7\n",
    "\n",
    "lm_gpt = dspy.LM('openai/gpt-4o', api_key=OPENAI_API_KEY, temperature=TEMPERATURE)\n",
    "lm_gemini = dspy.LM('gemini/gemini-1.5-pro', api_key=GOOGLE_API_KEY, temperature=TEMPERATURE)\n",
    "# dspy.configure(lm=lm_gpt)\n"
   ]
  },
  {
   "cell_type": "markdown",
   "metadata": {},
   "source": [
    "# Generate answer"
   ]
  },
  {
   "cell_type": "code",
   "execution_count": 3,
   "metadata": {},
   "outputs": [
    {
     "data": {
      "text/plain": [
       "['A pure market economy, devoid of government intervention, exists only in theory.  In practice, all functioning economies are to some degree “mixed,” incorporating elements of both market-based allocation and government intervention.  The question, therefore, is not whether economies *should* become mixed, but rather *to what extent* they should embrace government involvement.  A complete shift towards a centrally planned economy is rarely advocated today, given historical failures of such systems.  The debate centers on the optimal balance.\\n\\nArguments for greater government involvement in market economies stem from market failures.  Information asymmetry, where one party in a transaction has more information than the other, can lead to exploitation.  Externalities, like pollution, represent costs or benefits not reflected in market prices, requiring government intervention through regulation or taxation.  Public goods, such as national defense, are non-excludable and non-rivalrous, meaning private markets underprovide them.  Furthermore, market economies can lead to significant income inequality, which some argue necessitates government redistribution through progressive taxation and social welfare programs.  Finally, the inherent boom-and-bust cycles of capitalism can be mitigated through government macroeconomic policies.\\n\\nConversely, excessive government intervention can create its own inefficiencies.  Bureaucracy, red tape, and corruption can stifle innovation and economic growth.  Government-owned enterprises often lack the dynamism and efficiency of private firms, leading to resource misallocation.  Price controls and subsidies can distort market signals, leading to shortages or surpluses.  Furthermore, high taxes to fund extensive government programs can disincentivize work and investment.\\n\\nThe optimal balance between market forces and government intervention depends on a country’s specific circumstances, cultural values, and political preferences.  While some argue for a minimal state focused on enforcing contracts and property rights, others advocate for a more interventionist approach to address social and economic issues.  Ultimately, a pragmatic approach recognizes the strengths and weaknesses of both market mechanisms and government intervention, striving for a balance that maximizes overall societal welfare.  This balance constantly evolves, adapting to changing economic conditions and societal priorities.\\n']"
      ]
     },
     "execution_count": 3,
     "metadata": {},
     "output_type": "execute_result"
    }
   ],
   "source": [
    "dspy.configure(lm=lm_gemini)\n",
    "def gen_answer(question, ms = None, target_score = None):\n",
    "    prompt = (\n",
    "        f\"Please answer the following A level Economic essay question in about 300 words.\\n\"\n",
    "        f\"Question: {question}\\n\"\n",
    "    )\n",
    "    if ms:\n",
    "        prompt += f\"Please answer according to the mark scheme:\\n {ms}\\n\"\n",
    "    \n",
    "    if target_score:\n",
    "        prompt += f\"Please answer aim for a score of {target_score}.\\n\"\n",
    "\n",
    "    return lm_gemini(prompt)\n",
    "\n",
    "gen_answer(\"Assess whether all market economies should become mixed economies.\")"
   ]
  },
  {
   "cell_type": "code",
   "execution_count": 56,
   "metadata": {},
   "outputs": [],
   "source": [
    "# read csv file\n",
    "import pandas as pd\n",
    "df = pd.read_csv('/Users/chen/Desktop/Econ/papers/all_papers.csv')\n",
    "df[\"answer\"] = df.apply(lambda row: gen_answer(row[\"question\"]), axis=1)\n",
    "df[\"answer_ms\"] = df.apply(lambda row: gen_answer(row[\"question\"], row[\"mark_scheme\"]), axis=1)\n",
    "\n",
    "# save to csv\n",
    "df.to_csv('all_papers_with_answers.csv', index=False)\n",
    "\n"
   ]
  },
  {
   "cell_type": "code",
   "execution_count": 57,
   "metadata": {},
   "outputs": [],
   "source": [
    "# read csv file\n",
    "import pandas as pd\n",
    "df = pd.read_csv('all_papers_with_answers.csv')\n",
    "df[\"answer_ms50\"] = df.apply(lambda row: gen_answer(row[\"question\"], row[\"mark_scheme\"],row[\"total_marks\"] * 0.5), axis=1)\n",
    "df[\"answer_ms75\"] = df.apply(lambda row: gen_answer(row[\"question\"], row[\"mark_scheme\"],row[\"total_marks\"] * 0.75), axis=1)\n",
    "\n",
    "# save to csv\n",
    "df.to_csv('all_papers_with_answers.csv', index=False)"
   ]
  },
  {
   "cell_type": "markdown",
   "metadata": {},
   "source": [
    "# Evaluate"
   ]
  },
  {
   "cell_type": "code",
   "execution_count": 68,
   "metadata": {},
   "outputs": [],
   "source": [
    "dspy.configure(lm=lm_gpt)\n",
    "def evaluate_answer(question, answer, ms):\n",
    "\n",
    "    prompt = f\"\"\"\n",
    "You are a strict AP Economics grader. Your task is to evaluate a student's answer based on the provided rubric. Please adhere strictly to the rubric without any deviation, and provide detailed reasoning for the score as well as suggestions for improvement.\n",
    "\n",
    "Question: \n",
    "{question}\n",
    "\n",
    "Student Answer: \n",
    "{answer}\n",
    "\n",
    "Rubric: \n",
    "{ms}\n",
    "\n",
    "\n",
    "Scoring Requirements:\n",
    "1. Score:\n",
    "Assign a clear score based on the rubric.\n",
    "The score must strictly follow the rubric; do not adjust arbitrarily.\n",
    "Do not deduct points for missing graphs or diagrams, since the student is unable to include them in this response.\n",
    "\n",
    "\n",
    "2. Rationale:\n",
    "Explain the specific reasons for the assigned score, including how the student's answer meets or does not meet the rubric criteria.\n",
    "If the answer partially meets the criteria, specify lost points, referencing the rubric.\n",
    "Clearly list the specific deduction points, stating exactly why the answer lost points.\n",
    "If the rubric requires a graph for full credit, do not deduct points for its absence, but clearly describe what a complete and correct graph should include to earn full points.\n",
    "\n",
    "\n",
    "3. Suggestions for Improvement:\n",
    "Provide specific suggestions to help the student improve their answer.\n",
    "Indicate what content needs to be added, modified, or refined to meet the rubric standards.\n",
    "\n",
    "Please grade strictly according to the rubric and provide clear rationale and improvement suggestions. \n",
    "And please provide the whole evaluation both in English and Chinese.\n",
    "\"\"\"\n",
    "    print(prompt)\n",
    "\n",
    "    return lm_gpt(prompt)"
   ]
  },
  {
   "cell_type": "code",
   "execution_count": 67,
   "metadata": {},
   "outputs": [],
   "source": [
    "# read csv file\n",
    "import pandas as pd\n",
    "df = pd.read_csv('all_papers_with_answers.csv')\n",
    "df[\"evaluation\"] = df.apply(lambda row: evaluate_answer(row[\"question\"], row[\"answer\"], row[\"mark_scheme\"]), axis=1)\n",
    "df[\"evaluation_ms\"] = df.apply(lambda row: evaluate_answer(row[\"question\"], row[\"answer_ms\"], row[\"mark_scheme\"]), axis=1)\n",
    "df[\"evaluation_ms50\"] = df.apply(lambda row: evaluate_answer(row[\"question\"], row[\"answer_ms50\"], row[\"mark_scheme\"]), axis=1)\n",
    "df[\"evaluation_ms75\"] = df.apply(lambda row: evaluate_answer(row[\"question\"], row[\"answer_ms75\"], row[\"mark_scheme\"]), axis=1)\n",
    "\n",
    "# save to csv\n",
    "df.to_csv('all_papers_with_answers&evaluation.csv', index=False)\n"
   ]
  },
  {
   "cell_type": "code",
   "execution_count": 69,
   "metadata": {},
   "outputs": [
    {
     "name": "stdout",
     "output_type": "stream",
     "text": [
      "\n",
      "You are a strict AP Economics grader. Your task is to evaluate a student's answer based on the provided rubric. Please adhere strictly to the rubric without any deviation, and provide detailed reasoning for the score as well as suggestions for improvement.\n",
      "\n",
      "Question: \n",
      "With the help of a diagram, assess the extent to which a government can intervene to correct market failure caused by negative externalities in air travel.\n",
      "\n",
      "Student Answer: \n",
      "['Air travel generates significant negative externalities, primarily through noise and air pollution, contributing to climate change and respiratory problems. These costs are not reflected in the market price of air travel, leading to overconsumption and market failure. Governments can intervene to correct this, although the effectiveness of these interventions varies.\\n\\nOne common intervention is taxation. A tax on air travel, such as an excise duty on fuel or a per-passenger levy, internalizes the externality by increasing the price closer to the social marginal cost (SMC).  The diagram below illustrates this. The initial market equilibrium is at Q1, where private marginal cost (PMC) intersects demand (D). However, the SMC, which includes the external cost, is higher. The tax shifts the PMC curve upwards to PMC + Tax, ideally equating it with the SMC.  The new equilibrium is at Q2, a lower quantity, closer to the socially optimal level. This reduces the welfare loss represented by the shaded triangle.\\n\\n[Diagram:  Standard supply and demand diagram.  Label D (demand), PMC (Private Marginal Cost), SMC (Social Marginal Cost), Q1 (initial equilibrium quantity), Q2 (new equilibrium quantity after tax), P1 (initial equilibrium price), P2 (new equilibrium price after tax). Shade the welfare loss triangle between SMC, PMC, and Q1.]\\n\\nHowever, the effectiveness of taxation depends on the elasticity of demand. If demand is inelastic, the tax will raise revenue but have a limited impact on reducing air travel.  Furthermore, accurately calculating the appropriate tax level, reflecting the true cost of the externalities, is challenging.\\n\\nAnother intervention is regulation.  Governments can impose stricter noise limits around airports, mandate the use of cleaner fuels, or limit the number of flights.  These can be effective in reducing externalities but may stifle innovation and competition.  Additionally, regulations can be costly to enforce and may disproportionately impact smaller airlines.\\n\\nMarket-based solutions like emissions trading schemes (ETS) can also be implemented.  Airlines are allocated permits to emit pollutants, and these permits can be traded. This creates an incentive for airlines to reduce emissions to sell excess permits, fostering innovation in cleaner technologies.  However, the effectiveness of ETS depends on setting the correct cap on emissions and ensuring effective monitoring and enforcement.\\n\\nIn conclusion, governments have various tools to address negative externalities from air travel, including taxation, regulation, and market-based mechanisms.  While these interventions can move the market closer to the socially optimal level, their effectiveness depends on factors like demand elasticity, accurate cost assessment, and robust implementation.  A combination of approaches is often necessary to achieve significant and sustainable reductions in the negative externalities associated with air travel.\\n']\n",
      "\n",
      "Rubric: \n",
      "Use Table A: AO1 Knowledge and understanding and AO2 Analysis and Table B: AO3 Evaluation to mark candidate responses to this question.\n",
      "AO1 and AO2 out of 14 marks. AO3 out of 6 marks.\n",
      "\n",
      "Indicative content:\n",
      "Responses may include:\n",
      "\n",
      "AO1 Knowledge and Understanding and AO2 Analysis:\n",
      "• Market failure regarding this question would relate to allocative inefficiency. \n",
      "• Market failure can be explained by defining allocative efficiency and linking this to the requirement to allocate resources to maximise consumer satisfaction. \n",
      "• This can be supported by a diagram illustrating a level of output where AR = MC which is consistent with an outcome that achieves allocative efficiency.\n",
      "• Negative externalities occur when the consumption/production of a good produces a cost to society which is greater than that incurred by an individual consumer/producer. \n",
      "• This is sometimes described as a negative ‘spill-over’ effect.\n",
      "• Forms of government intervention might include: the use of taxation; the use of negative advertising, direct regulation.\n",
      "• A clearly labelled, accurate diagram can be used to show the impact of a negative externality on the level of output and the welfare loss will be identified.\n",
      "• The diagram could show the market equilibrium point which does not recognize the existence of a negative externality and may compare this with the allocatively efficient level of flight use when the negative externality is taken into account.\n",
      "• One type of intervention might involve the use of taxation by a government. A tax will increase the cost of air travel which will decrease demand. \n",
      "• A decrease in demand will decrease the equilibrium number of flights and achieve allocative efficiency.\n",
      "• A government might use negative advertising to decrease demand. A decrease in demand will lead to fewer flights, volume of air travel will fall and allocative efficiency might then be achieved.\n",
      "\n",
      "AO3 Evaluation:\n",
      "• A government might introduce a tax; however, it is difficult to measure the precise level of taxation required.\n",
      "• Also, the impact of a tax on price and demand in some circumstances takes a long time to become effective.\n",
      "• Advertising is often costly, and it is not always certain that it will have a sufficiently persuasive effect to ensure the correct level of consumption is reached.\n",
      "• It is possible to show that government intervention can reduce the level of inefficiency caused by the existence of negative externalities, \n",
      "  but it is not clear whether the net effect of government intervention will always be positive. \n",
      "• Some types of intervention will be more effective than others depending on the nature of the good/service under consideration.\n",
      "• Accept all valid responses.\n",
      "\n",
      "\n",
      "Scoring Requirements:\n",
      "1. Score:\n",
      "Assign a clear score based on the rubric.\n",
      "The score must strictly follow the rubric; do not adjust arbitrarily.\n",
      "Do not deduct points for missing graphs or diagrams, since the student is unable to include them in this response.\n",
      "\n",
      "\n",
      "2. Rationale:\n",
      "Explain the specific reasons for the assigned score, including how the student's answer meets or does not meet the rubric criteria.\n",
      "If the answer partially meets the criteria, specify lost points, referencing the rubric.\n",
      "Clearly list the specific deduction points, stating exactly why the answer lost points.\n",
      "If the rubric requires a graph for full credit, do not deduct points for its absence, but clearly describe what a complete and correct graph should include to earn full points.\n",
      "\n",
      "\n",
      "3. Suggestions for Improvement:\n",
      "Provide specific suggestions to help the student improve their answer.\n",
      "Indicate what content needs to be added, modified, or refined to meet the rubric standards.\n",
      "\n",
      "Please grade strictly according to the rubric and provide clear rationale and improvement suggestions. \n",
      "And please provide the whole evaluation both in English and Chinese.\n",
      "\n"
     ]
    },
    {
     "data": {
      "text/plain": [
       "[\"**English Version:**\\n\\n**Score:**\\n\\nAO1 Knowledge and Understanding and AO2 Analysis: 12/14  \\nAO3 Evaluation: 5/6\\n\\n**Rationale:**\\n\\nAO1 and AO2:\\n\\n- The student's response adequately identifies market failure due to negative externalities in air travel, specifically citing noise and air pollution. This corresponds well with the rubric's expectation of addressing allocative inefficiency due to externalities. \\n- The answer provides a clear explanation of how taxation can internalize externalities and uses a theoretical diagram to illustrate the shift from private marginal cost (PMC) to social marginal cost (SMC). This aligns with the rubric's requirement for a diagram showing market equilibrium and allocatively efficient levels.\\n- The student also discusses other forms of government intervention, such as regulation and emissions trading schemes, demonstrating a strong understanding of various approaches.\\n- However, while the answer is comprehensive, it misses an explicit definition of allocative efficiency in terms of achieving maximum consumer satisfaction (AR = MC), which is a requirement in the rubric. This results in a deduction of 2 points.\\n\\nAO3:\\n\\n- The evaluation is thorough, considering the challenges of taxation and the elasticity of demand, as well as the effectiveness of regulations and emissions trading schemes.\\n- The response effectively acknowledges that various interventions have different levels of effectiveness depending on several factors, which is consistent with the rubric's criteria for evaluation.\\n- The conclusion highlights the need for a combination of approaches, which is a strong evaluative point.\\n- The student loses 1 point for not explicitly discussing the potential for government intervention to not always have a positive net effect, as highlighted in the rubric.\\n\\n**Suggestions for Improvement:**\\n\\n1. **Define Allocative Efficiency:** Include a definition of allocative efficiency, specifically linking it to maximizing consumer satisfaction where AR = MC, to fully meet the rubric's criteria.\\n2. **Expand on Evaluation:** Enhance the evaluation by discussing the possibility that government interventions might not always have a positive net effect due to potential inefficiencies or unintended consequences.\\n3. **Diagram Details:** Although diagrams cannot be included in this response, ensure that any diagram used in an actual exam includes all necessary elements clearly labeled, such as SMC, PMC, demand, equilibrium points, and welfare loss areas.\\n\\n---\\n\\n**Chinese Version:**\\n\\n**评分:**\\n\\nAO1 知识与理解和 AO2 分析: 12/14  \\nAO3 评价: 5/6\\n\\n**评分理由:**\\n\\nAO1 和 AO2:\\n\\n- 学生的回答充分识别了由于航空旅行的负外部性导致的市场失灵，特别是噪音和空气污染。这与评分标准中关于由于外部性导致的配置效率低下的要求相符。\\n- 答案清楚地解释了税收如何内化外部性，并使用理论图表来说明从私人边际成本（PMC）到社会边际成本（SMC）的转变。这符合评分标准中关于显示市场均衡和配置效率水平的图表要求。\\n- 学生还讨论了其他形式的政府干预，如法规和排放交易计划，展示了对各种方法的强烈理解。\\n- 然而，尽管答案全面，但缺乏明确的配置效率定义，特别是在达到最大消费者满意度（AR = MC）方面，这是评分标准中的要求。因此扣除2分。\\n\\nAO3:\\n\\n- 评价很全面，考虑了税收的挑战和需求弹性，以及法规和排放交易计划的有效性。\\n- 回应有效地承认，各种干预措施的有效性因多种因素而异，这与评分标准的评估标准一致。\\n- 结论强调需要多种方法的结合，这是一个强有力的评估点。\\n- 学生因未明确讨论政府干预可能不会总是带来积极净效应，而按照评分标准扣除1分。\\n\\n**改进建议:**\\n\\n1. **定义配置效率:** 包括配置效率的定义，特别是将其与在AR = MC时最大化消费者满意度联系起来，以完全满足评分标准的要求。\\n2. **扩展评价:** 通过讨论政府干预可能不会总是有积极的净效应来增强评价，因为可能存在潜在的低效或意外后果。\\n3. **图表细节:** 虽然后续答案中不能包含图表，但在实际考试中使用的图表应确保包括所有必要元素，清晰标记，如SMC，PMC，需求，均衡点和福利损失区域。\"]"
      ]
     },
     "execution_count": 69,
     "metadata": {},
     "output_type": "execute_result"
    }
   ],
   "source": [
    "# read csv file\n",
    "import pandas as pd\n",
    "df = pd.read_csv('all_papers_with_answers.csv')\n",
    "# test a single row\n",
    "row = df.iloc[0]\n",
    "evaluate_answer(row[\"question\"], row[\"answer\"], row[\"mark_scheme\"])\n"
   ]
  }
 ],
 "metadata": {
  "kernelspec": {
   "display_name": "health",
   "language": "python",
   "name": "python3"
  },
  "language_info": {
   "codemirror_mode": {
    "name": "ipython",
    "version": 3
   },
   "file_extension": ".py",
   "mimetype": "text/x-python",
   "name": "python",
   "nbconvert_exporter": "python",
   "pygments_lexer": "ipython3",
   "version": "3.12.9"
  }
 },
 "nbformat": 4,
 "nbformat_minor": 2
}
