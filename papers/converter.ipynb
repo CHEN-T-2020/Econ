{
 "cells": [
  {
   "cell_type": "code",
   "execution_count": 6,
   "metadata": {},
   "outputs": [
    {
     "name": "stdout",
     "output_type": "stream",
     "text": [
      "JSON file saved as combined_papers.json\n"
     ]
    }
   ],
   "source": [
    "import pandas as pd\n",
    "import json\n",
    "import os\n",
    "\n",
    "# Define file paths\n",
    "file_paths = [\n",
    "    \"9708_m23_ms_22.csv\",\n",
    "    \"9708_m23_ms_42.csv\"\n",
    "]\n",
    "\n",
    "# Create a dictionary to store JSON data for each file separately\n",
    "json_data = {}\n",
    "\n",
    "# Process each CSV file separately\n",
    "for file_path in file_paths:\n",
    "    # Read CSV file\n",
    "    df = pd.read_csv(file_path)\n",
    "    \n",
    "    # Convert to JSON format with indentation\n",
    "    file_json = json.dumps(df.to_dict(orient=\"records\"), indent=4, ensure_ascii=False)\n",
    "    \n",
    "    # Use file name (without extension) as key\n",
    "    file_name = os.path.basename(file_path).replace(\".csv\", \"\")\n",
    "    json_data[file_name] = json.loads(file_json)  # Convert back to dictionary\n",
    "\n",
    "# Save the combined JSON file\n",
    "combined_json_path = \"combined_papers.json\"\n",
    "with open(combined_json_path, \"w\", encoding=\"utf-8\") as json_file:\n",
    "    json.dump(json_data, json_file, indent=4, ensure_ascii=False)\n",
    "\n",
    "print(f\"JSON file saved as {combined_json_path}\")\n"
   ]
  }
 ],
 "metadata": {
  "kernelspec": {
   "display_name": "health",
   "language": "python",
   "name": "python3"
  },
  "language_info": {
   "codemirror_mode": {
    "name": "ipython",
    "version": 3
   },
   "file_extension": ".py",
   "mimetype": "text/x-python",
   "name": "python",
   "nbconvert_exporter": "python",
   "pygments_lexer": "ipython3",
   "version": "3.12.9"
  }
 },
 "nbformat": 4,
 "nbformat_minor": 2
}
